{
 "cells": [
  {
   "cell_type": "code",
   "execution_count": 3,
   "metadata": {},
   "outputs": [
    {
     "name": "stdout",
     "output_type": "stream",
     "text": [
      "/home/vri/Projects/research/Flood-detection\n"
     ]
    }
   ],
   "source": [
    "%cd '/home/vri/Projects/research/Flood-detection'"
   ]
  },
  {
   "cell_type": "code",
   "execution_count": 1,
   "metadata": {},
   "outputs": [],
   "source": [
    "import os\n",
    "import json\n",
    "import glob\n",
    "import pandas as pd\n",
    "import matplotlib.pyplot as plt\n",
    "import tarfile\n",
    "\n",
    "import subprocess\n",
    "from subprocess import PIPE\n",
    "\n",
    "import rasterio\n",
    "import cv2"
   ]
  },
  {
   "cell_type": "code",
   "execution_count": 4,
   "metadata": {},
   "outputs": [],
   "source": [
    "from utils import utils_dirs"
   ]
  },
  {
   "cell_type": "code",
   "execution_count": null,
   "metadata": {},
   "outputs": [],
   "source": [
    "def is_empty_img (path):\n",
    "    \"\"\" \n",
    "    Function to check if image is empty (0-filled file)\n",
    "\n",
    "    Args:\n",
    "        path (path.path): path to image subfolder\n",
    "\n",
    "    Returns:\n",
    "        bool\n",
    "    \"\"\"\n",
    "    img = cv2.imread (path + '/B01.tif', 0)\n",
    "    return True if (cv2.countNonZero(img) == 0) else False"
   ]
  },
  {
   "cell_type": "code",
   "execution_count": null,
   "metadata": {},
   "outputs": [],
   "source": [
    "def remove_empty_folders(path):\n",
    "    \"\"\"function to remove empty image subfolders (subfolders with no spectral band data)\n",
    "\n",
    "    Args:\n",
    "        path (path.path) : path to image subfolder\n",
    "    \"\"\"\n",
    "    subprocess.run(['rm', '-r', path])\n",
    "    return"
   ]
  },
  {
   "cell_type": "code",
   "execution_count": null,
   "metadata": {},
   "outputs": [],
   "source": [
    "def stack_bands(path, dirname, bands = band_list):\n",
    "    \"\"\"\n",
    "    function to stack different spectral bands.\n",
    "    For the scope of this project, the selected bands are: 2, 3, 4, 8 (B, G, R, Near-infrared)\n",
    "\n",
    "    Args:\n",
    "        path (path.path): path to image subfolder\n",
    "        bands (list): list of bands to be stacked together.\n",
    "    \"\"\"\n",
    "    \n",
    "    try:\n",
    "        with rasterio.open(f\"{path}/{bands[0]}\") as src0:\n",
    "            meta = src0.meta\n",
    "        meta.update(count = len(bands))\n",
    "\n",
    "        with rasterio.open(f\"{path}/stack.tif\", 'w', **meta) as dst:\n",
    "            for id, layer in enumerate(bands, start=1):\n",
    "                with rasterio.open(f\"{path}/{layer}\") as src1:\n",
    "                    dst.write_band(id, src1.read(1))\n",
    "    \n",
    "    except:\n",
    "        print(f\"{dirname} is an empty folder\")\n",
    "        remove_empty_folders(path)\n",
    "\n",
    "        pass\n",
    "\n",
    "\n",
    "band_list = ['B02.tif' , 'B03.tif' , 'B04.tif' , 'B08.tif']"
   ]
  },
  {
   "cell_type": "code",
   "execution_count": null,
   "metadata": {},
   "outputs": [],
   "source": [
    "def get_dirname(path):\n",
    "    \"\"\"function to retrieve dirname of image subfolder\n",
    "\n",
    "    Args:\n",
    "        path (path.path): path to image subfolder\n",
    "\n",
    "    Returns:\n",
    "        data['id'] (string): dirname of image subfolder\n",
    "    \"\"\"\n",
    "    json_data = open (f\"{path}/stac.json\", \"rb\")\n",
    "    data = json.load (json_data)\n",
    "\n",
    "    return data['id']"
   ]
  },
  {
   "cell_type": "code",
   "execution_count": null,
   "metadata": {},
   "outputs": [],
   "source": [
    "ROOT_DIR = '../data/transformer_data/sen12floods_s2_source'\n",
    "\n",
    "def get_img_folders(flag:str, root_path = ROOT_DIR):\n",
    "    \"\"\"iterate through root folder to get image subfolders\n",
    "\n",
    "    Args:\n",
    "        root_path (path.path): path to root directory. Defaults to ROOT_DIR.\n",
    "    \"\"\"\n",
    "    folders_list = []\n",
    "    for file in os.listdir(root_path):\n",
    "        d = os.path.join(root_path, file)\n",
    "        if os.path.isdir(d):\n",
    "            folders_list.append(d)\n",
    "    print(f\"The number of {flag} image subfolders are: {len(folders_list)}\")\n",
    "    return folders_list"
   ]
  },
  {
   "cell_type": "code",
   "execution_count": null,
   "metadata": {},
   "outputs": [],
   "source": [
    "def create_image(flist):\n",
    "    \"\"\"function call for deleting empty subfolders, stacking bands and creating new image files for further processing\n",
    "\n",
    "    Args:\n",
    "        flist (lsit): liat of image subfolders\n",
    "    \"\"\"\n",
    "    for fpath in flist:\n",
    "        empty = is_empty_img(fpath)\n",
    "        remove_empty_folders(fpath) if empty else stack_bands(fpath, get_dirname(fpath), bands=band_list)\n"
   ]
  },
  {
   "cell_type": "code",
   "execution_count": null,
   "metadata": {},
   "outputs": [],
   "source": [
    "flist = get_img_folders(flag='total', root_path = ROOT_DIR)\n",
    "create_image(flist)"
   ]
  },
  {
   "cell_type": "code",
   "execution_count": null,
   "metadata": {},
   "outputs": [],
   "source": [
    "get_img_folders(flag='valid', root_path = ROOT_DIR)"
   ]
  },
  {
   "cell_type": "code",
   "execution_count": null,
   "metadata": {},
   "outputs": [],
   "source": [
    "def extract_tar(SOURCE_DIR, SAVE_DIR):\n",
    "    \"\"\"function to extract data from a tar.gz file\n",
    "\n",
    "    Args:\n",
    "        SOURCE_DIR (path.path): path of tar file\n",
    "        SAVE_DIR (path.path): path to save extracted data\n",
    "    \"\"\"\n",
    "    SOURCE_DIR = tarfile.open(SOURCE_DIR)\n",
    "    SOURCE_DIR.extractall(SAVE_DIR)\n",
    "    SOURCE_DIR.close()\n",
    "\n",
    "\n",
    "source ='../data/sen12floods_s2_source.tar.gz'\n",
    "save = '../data/transformer_data'\n",
    "\n",
    "extract_tar(source, save)"
   ]
  },
  {
   "cell_type": "code",
   "execution_count": null,
   "metadata": {},
   "outputs": [],
   "source": []
  }
 ],
 "metadata": {
  "kernelspec": {
   "display_name": "raster_env",
   "language": "python",
   "name": "python3"
  },
  "language_info": {
   "codemirror_mode": {
    "name": "ipython",
    "version": 3
   },
   "file_extension": ".py",
   "mimetype": "text/x-python",
   "name": "python",
   "nbconvert_exporter": "python",
   "pygments_lexer": "ipython3",
   "version": "3.11.3"
  },
  "orig_nbformat": 4
 },
 "nbformat": 4,
 "nbformat_minor": 2
}
